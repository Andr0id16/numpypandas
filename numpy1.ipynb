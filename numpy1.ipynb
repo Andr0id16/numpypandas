{
 "cells": [
  {
   "cell_type": "code",
   "execution_count": 2,
   "metadata": {},
   "outputs": [],
   "source": [
    "import numpy as np\n"
   ]
  },
  {
   "cell_type": "code",
   "execution_count": 3,
   "metadata": {},
   "outputs": [
    {
     "name": "stdout",
     "output_type": "stream",
     "text": [
      "6\n"
     ]
    },
    {
     "data": {
      "text/plain": [
       "[[4, 2, 3], [1, 3, 5]]"
      ]
     },
     "execution_count": 3,
     "metadata": {},
     "output_type": "execute_result"
    }
   ],
   "source": [
    "a = np.array([[4,2,3],[1,3,5]])\n",
    "print(a.size) # size is the number of elemnts in the matrix so basically number of rows times the number of columns\n",
    "\n",
    "a.tolist() # returns the matrix in list notation basically\n",
    "# so the way you would pass an argument to numpy.array()\n",
    "\n",
    "# np.info(a) # whole lot of info about the numpy array a \n",
    "# np.info(a.tolist) # whole documentation of ndarray.tolist()\n",
    "# np.info(np.array) # doc of numpy.array function\n"
   ]
  },
  {
   "cell_type": "code",
   "execution_count": 4,
   "metadata": {},
   "outputs": [
    {
     "data": {
      "text/plain": [
       "array([[2, 1],\n",
       "       [3, 3],\n",
       "       [4, 5]])"
      ]
     },
     "execution_count": 4,
     "metadata": {},
     "output_type": "execute_result"
    }
   ],
   "source": [
    "#when copying references do get copied therefore use copy functions \n",
    "\n",
    "b = a.copy() #instead of b = a \n",
    "\n",
    "a.sort()\n",
    "a.flatten() # flattens 2D to 1D\n",
    "\n",
    "a.T ###property not a function\n",
    "# np.delete(a,0,axis=0) delete 0th row(axis=0) of a\n"
   ]
  },
  {
   "cell_type": "code",
   "execution_count": 17,
   "metadata": {},
   "outputs": [
    {
     "data": {
      "text/plain": [
       "array([[ 1,  1,  1],\n",
       "       [ 1,  2,  3],\n",
       "       [ 1,  1,  1],\n",
       "       [ 4,  5,  6],\n",
       "       [ 1,  1,  1],\n",
       "       [ 7,  8,  9],\n",
       "       [10, 11, 12]])"
      ]
     },
     "execution_count": 17,
     "metadata": {},
     "output_type": "execute_result"
    }
   ],
   "source": [
    "c = np.array([[1,2,3],[4,5,6],[7,8,9],[10,11,12]])\n",
    "\n",
    "np.sum(c,axis=1)\n",
    "\n",
    "np.insert(c,[0,1,2],1,axis=0)"
   ]
  },
  {
   "cell_type": "code",
   "execution_count": 45,
   "metadata": {},
   "outputs": [
    {
     "data": {
      "text/plain": [
       "array([[0.25, 0.4 , 0.5 ]])"
      ]
     },
     "execution_count": 45,
     "metadata": {},
     "output_type": "execute_result"
    }
   ],
   "source": [
    "d = np.array([[1,2,3]])\n",
    "e = np.array([[4,5,6]])\n",
    "\n",
    "# np.concatenate((d,e),axis=1)\n",
    "d/e"
   ]
  }
 ],
 "metadata": {
  "kernelspec": {
   "display_name": "Python 3.9.1 64-bit",
   "language": "python",
   "name": "python3"
  },
  "language_info": {
   "codemirror_mode": {
    "name": "ipython",
    "version": 3
   },
   "file_extension": ".py",
   "mimetype": "text/x-python",
   "name": "python",
   "nbconvert_exporter": "python",
   "pygments_lexer": "ipython3",
   "version": "3.9.1"
  },
  "orig_nbformat": 4,
  "vscode": {
   "interpreter": {
    "hash": "d5e2dccb87ba17c947856cd03b12eed70b47cf1724b733be009b9a128d3d51df"
   }
  }
 },
 "nbformat": 4,
 "nbformat_minor": 2
}
